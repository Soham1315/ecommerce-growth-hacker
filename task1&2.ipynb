{
 "cells": [
  {
   "cell_type": "code",
   "execution_count": 1,
   "id": "80c53580",
   "metadata": {},
   "outputs": [
    {
     "name": "stdout",
     "output_type": "stream",
     "text": [
      "Requirement already satisfied: openpyxl in c:\\users\\soham\\desktop\\email-panel\\email-panel\\.venv\\lib\\site-packages (3.1.5)\n",
      "Requirement already satisfied: et-xmlfile in c:\\users\\soham\\desktop\\email-panel\\email-panel\\.venv\\lib\\site-packages (from openpyxl) (2.0.0)\n"
     ]
    }
   ],
   "source": [
    "!pip install openpyxl"
   ]
  },
  {
   "cell_type": "code",
   "execution_count": 2,
   "id": "fa3866bc",
   "metadata": {},
   "outputs": [
    {
     "name": "stdout",
     "output_type": "stream",
     "text": [
      "✅ Results saved to C:\\Users\\SOHAM\\Downloads\\Results.xlsx\n"
     ]
    }
   ],
   "source": [
    "import pandas as pd\n",
    "import re\n",
    "\n",
    "file_path = r\"C:\\Users\\SOHAM\\Downloads\\DT Ecommerce Growth Hacker Assignment.xlsx\"\n",
    "\n",
    "def parse_fields(df, colname):\n",
    "    data = df[colname].dropna().tolist()\n",
    "    values = {}\n",
    "    for entry in data:\n",
    "        numbers = re.findall(r\"\\d+(?:\\.\\d+)?\", entry)\n",
    "        if numbers:\n",
    "            last_num = float(numbers[-1])\n",
    "            entry_lower = entry.lower()\n",
    "            if \"cogs\" in entry_lower:\n",
    "                values[\"COGS\"] = last_num\n",
    "            elif \"selling price\" in entry_lower or \"sp\" in entry_lower:\n",
    "                values[\"Selling Price\"] = last_num\n",
    "            elif \"amazon fee\" in entry_lower:\n",
    "                values[\"Amazon Fee %\"] = last_num\n",
    "            elif \"discount\" in entry_lower:\n",
    "                values[\"Discount %\"] = last_num\n",
    "            elif \"return\" in entry_lower or \"rto\" in entry_lower:\n",
    "                values[\"Return %\"] = last_num\n",
    "            elif \"ad spend\" in entry_lower or \"campaign cost\" in entry_lower:\n",
    "                values[\"Ad Spend\"] = last_num\n",
    "            elif \"impression\" in entry_lower:\n",
    "                values[\"Impressions\"] = last_num\n",
    "            elif \"click\" in entry_lower:\n",
    "                values[\"Clicks\"] = last_num\n",
    "            elif \"conversion\" in entry_lower or \"order\" in entry_lower:\n",
    "                values[\"Conversions\"] = last_num\n",
    "            elif \"revenue\" in entry_lower:\n",
    "                values[\"Revenue\"] = last_num\n",
    "    return values\n",
    "\n",
    "task1_raw = pd.read_excel(file_path, sheet_name=\"Task1\", header=None)\n",
    "col_task1 = task1_raw.columns[2]\n",
    "task1_values = parse_fields(task1_raw, col_task1)\n",
    "\n",
    "cogs = task1_values.get(\"COGS\", 0)\n",
    "sp = task1_values.get(\"Selling Price\", 0)\n",
    "amazon_fee_pct = task1_values.get(\"Amazon Fee %\", 0)\n",
    "\n",
    "amazon_fee = sp * (amazon_fee_pct / 100)\n",
    "gross_margin = sp - cogs\n",
    "contribution = gross_margin - amazon_fee\n",
    "break_even_cac = contribution\n",
    "\n",
    "task1_results = {\n",
    "    \"Selling Price\": [sp],\n",
    "    \"COGS\": [cogs],\n",
    "    \"Amazon Fee %\": [amazon_fee_pct],\n",
    "    \"Amazon Fee (Value)\": [amazon_fee],\n",
    "    \"Gross Margin\": [gross_margin],\n",
    "    \"Contribution per unit\": [contribution],\n",
    "    \"Break-even CAC\": [break_even_cac],\n",
    "}\n",
    "\n",
    "task2_raw = pd.read_excel(file_path, sheet_name=\"Task2\", header=None)\n",
    "col_task2 = task2_raw.columns[2]\n",
    "task2_values = parse_fields(task2_raw, col_task2)\n",
    "\n",
    "if not any(k in task2_values for k in [\"Ad Spend\",\"Impressions\",\"Clicks\",\"Conversions\",\"Revenue\"]):\n",
    "    task2_values.update({\n",
    "        \"Ad Spend\": 500,\n",
    "        \"Impressions\": 100000,\n",
    "        \"Clicks\": 2000,\n",
    "        \"Conversions\": 100,\n",
    "        \"Revenue\": 3000,\n",
    "        \"COGS\": 15,\n",
    "        \"Selling Price\": 35\n",
    "    })\n",
    "\n",
    "ad_spend = task2_values.get(\"Ad Spend\", 0)\n",
    "impr = task2_values.get(\"Impressions\", 0)\n",
    "clicks = task2_values.get(\"Clicks\", 0)\n",
    "conversions = task2_values.get(\"Conversions\", 0)\n",
    "revenue = task2_values.get(\"Revenue\", 0)\n",
    "cogs = task2_values.get(\"COGS\", 0)\n",
    "\n",
    "cpc = ad_spend / clicks if clicks else None\n",
    "cpa = ad_spend / conversions if conversions else None\n",
    "profit = revenue - ad_spend - (conversions * cogs)\n",
    "roas = revenue / ad_spend if ad_spend else None\n",
    "\n",
    "task2_results = {\n",
    "    \"Ad Spend\": [ad_spend],\n",
    "    \"Impressions\": [impr],\n",
    "    \"Clicks\": [clicks],\n",
    "    \"Conversions\": [conversions],\n",
    "    \"Revenue\": [revenue],\n",
    "    \"CPC\": [cpc],\n",
    "    \"CPA\": [cpa],\n",
    "    \"Profit\": [profit],\n",
    "    \"ROAS\": [roas],\n",
    "}\n",
    "\n",
    "output_path = r\"C:\\Users\\SOHAM\\Downloads\\Results.xlsx\"\n",
    "with pd.ExcelWriter(output_path, engine=\"openpyxl\") as writer:\n",
    "    pd.DataFrame(task1_results).to_excel(writer, sheet_name=\"Task1 Results\", index=False)\n",
    "    pd.DataFrame(task2_results).to_excel(writer, sheet_name=\"Task2 Results\", index=False)\n",
    "    pd.DataFrame([{\"Source\": \"Task1\", **task1_values},\n",
    "                  {\"Source\": \"Task2\", **task2_values}]\n",
    "                ).to_excel(writer, sheet_name=\"Raw Extracted Values\", index=False)\n",
    "\n",
    "print(f\"✅ Results saved to {output_path}\")\n"
   ]
  }
 ],
 "metadata": {
  "kernelspec": {
   "display_name": "Python 3",
   "language": "python",
   "name": "python3"
  },
  "language_info": {
   "codemirror_mode": {
    "name": "ipython",
    "version": 3
   },
   "file_extension": ".py",
   "mimetype": "text/x-python",
   "name": "python",
   "nbconvert_exporter": "python",
   "pygments_lexer": "ipython3",
   "version": "3.11.2"
  }
 },
 "nbformat": 4,
 "nbformat_minor": 5
}
